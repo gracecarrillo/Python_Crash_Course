{
  "nbformat": 4,
  "nbformat_minor": 0,
  "metadata": {
    "colab": {
      "name": "Python Variables & Data Types -EXERCISE.ipynb",
      "provenance": [],
      "collapsed_sections": []
    },
    "kernelspec": {
      "name": "python3",
      "display_name": "Python 3"
    }
  },
  "cells": [
    {
      "cell_type": "markdown",
      "metadata": {
        "id": "ZvNsvUNNlZbi"
      },
      "source": [
        "---\n",
        "#  Crash Course Python for Data Science - Intro to Python  \n",
        "---\n",
        "# 01 - Python Variables & Data Types\n",
        "---\n",
        "\n"
      ]
    },
    {
      "cell_type": "markdown",
      "metadata": {
        "id": "o57NvhYkBjKH"
      },
      "source": [
        "## Part 1: Variables\n"
      ]
    },
    {
      "cell_type": "markdown",
      "metadata": {
        "id": "4haXpvn1QXW_"
      },
      "source": [
        "### 1.1 Create three numerical variables (ints and/or floats) and add them together. At least one of your variables must hold a negative value."
      ]
    },
    {
      "cell_type": "code",
      "metadata": {
        "id": "PweN-CTws2EV",
        "cellView": "form"
      },
      "source": [
        "\n",
        "a, b, c = 5, -4, 7\n",
        "a+b+c"
      ],
      "execution_count": null,
      "outputs": []
    },
    {
      "cell_type": "markdown",
      "metadata": {
        "id": "QSk1zFf4Qbzk"
      },
      "source": [
        "### 1.2 Write a sentence in five parts, assign each part to a variable, then concatenate them all together. Account for spacing!"
      ]
    },
    {
      "cell_type": "code",
      "metadata": {
        "id": "i-d3b4fqQe9z",
        "cellView": "form"
      },
      "source": [
        "\n",
        "a, b, c, d ,e = 'Hi ', 'I ', 'am ', 'Grace ', 'Carrillo'\n",
        "a+b+c+d+e"
      ],
      "execution_count": null,
      "outputs": []
    },
    {
      "cell_type": "markdown",
      "metadata": {
        "id": "8EYDz3UtQflV"
      },
      "source": [
        "### 1.3 Calculate my body mass index. Here's the formula for BMI:  \n",
        "\n",
        ">$\\frac{Weight(kg)}{Height(m)^2} = BMI$  \n",
        "\n",
        "I am 1.60 meters tall and weighs 56 kg. Create a variable for this height, weight, and BMI by combining the first two.\n"
      ]
    },
    {
      "cell_type": "code",
      "metadata": {
        "id": "HOf18kjSQjZM",
        "cellView": "form"
      },
      "source": [
        "\n",
        "def BMI(w,h):\n",
        "  '''Calculates BMI '''\n",
        "  bmi = round(w/(h*h))\n",
        "  return bmi\n",
        "\n",
        "w = 56\n",
        "h = 1.60\n",
        "print('Grace`s BMI is ' + str(BMI(w,h)))"
      ],
      "execution_count": null,
      "outputs": []
    },
    {
      "cell_type": "markdown",
      "metadata": {
        "id": "SV0stA9BUSCn"
      },
      "source": [
        "### 1.4 Now calculate your own BMI.\n",
        "How tall are you and what is your weight? If you're not sure, make a rough guess and calculate your BMI by changing the values of the variables you created for me. It's easier than creating all new variables, right?"
      ]
    },
    {
      "cell_type": "code",
      "metadata": {
        "id": "FgQ4LB12Uitn",
        "cellView": "form"
      },
      "source": [
        "\n",
        "print('My BMI is ' + str(BMI(59,1.63)), 'kg/m^2')"
      ],
      "execution_count": null,
      "outputs": []
    },
    {
      "cell_type": "markdown",
      "metadata": {
        "id": "LvfErOpESot3"
      },
      "source": [
        "## Part 2: Data Types"
      ]
    },
    {
      "cell_type": "markdown",
      "metadata": {
        "id": "u5SAr9vDSuCY"
      },
      "source": [
        "### 2.1 What is the data type of the following variables?"
      ]
    },
    {
      "cell_type": "code",
      "metadata": {
        "id": "QWyELKj1Sssz"
      },
      "source": [
        "a = -91\n",
        "b = 12.0222\n",
        "c = True\n",
        "d = \"Loosey goosey\""
      ],
      "execution_count": null,
      "outputs": []
    },
    {
      "cell_type": "code",
      "metadata": {
        "id": "ElDKxLmmiMbV",
        "cellView": "form"
      },
      "source": [
        "x = [a,b,c,d]\n",
        "\n",
        "# I'm using a loop because is faster that checking one by one\n",
        "for i in x:\n",
        "  print('Variable ' + str(i) + ' is ' + str(type(i)))"
      ],
      "execution_count": null,
      "outputs": []
    },
    {
      "cell_type": "markdown",
      "metadata": {
        "id": "hBIomZKgS9Qw"
      },
      "source": [
        "### 2.2 How do strings behave differently than integers or floats?"
      ]
    },
    {
      "cell_type": "markdown",
      "metadata": {
        "id": "RT5d5gOoTFbV"
      },
      "source": [
        "*Write your answer below this line*: \n",
        "---\n",
        "To write, double click here...\n"
      ]
    },
    {
      "cell_type": "code",
      "metadata": {
        "id": "PxpCwr0Uieu2",
        "cellView": "form"
      },
      "source": [
        "# Strings are sequence types. You can acces their common set of \n",
        "# operations i.e. indexing, slicing, lenght(), etc. \n",
        "# Integers and floats are numerical types. \n",
        "# They use a different set of operations. "
      ],
      "execution_count": null,
      "outputs": []
    },
    {
      "cell_type": "markdown",
      "metadata": {
        "id": "tXH3HQGWTZ0-"
      },
      "source": [
        "### 2.3 Create one variable holding a string and another variable holding a float. Concatenate the two together. "
      ]
    },
    {
      "cell_type": "code",
      "metadata": {
        "id": "Nt_aT0C3S7Yz",
        "cellView": "form"
      },
      "source": [
        "a, b = 'Hi ', 5\n",
        "a + str(b)"
      ],
      "execution_count": null,
      "outputs": []
    },
    {
      "cell_type": "markdown",
      "metadata": {
        "id": "qVG_ZZyfTjyB"
      },
      "source": [
        "### YOU DID IT! Congratulations. I hope you feel more confident with Python now. Practice makes the master. See you on the next exercise. - Grace\n",
        "\n"
      ]
    }
  ]
}